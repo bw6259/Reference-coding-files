{
  "nbformat": 4,
  "nbformat_minor": 0,
  "metadata": {
    "kernelspec": {
      "display_name": "Python 3",
      "language": "python",
      "name": "python3"
    },
    "language_info": {
      "codemirror_mode": {
        "name": "ipython",
        "version": 3
      },
      "file_extension": ".py",
      "mimetype": "text/x-python",
      "name": "python",
      "nbconvert_exporter": "python",
      "pygments_lexer": "ipython3",
      "version": "3.7.3"
    },
    "colab": {
      "provenance": [],
      "collapsed_sections": [],
      "toc_visible": true
    }
  },
  "cells": [
    {
      "cell_type": "markdown",
      "metadata": {
        "id": "XUByMmBwXPUh"
      },
      "source": [
        "### References: \n",
        "- https://s3.amazonaws.com/assets.datacamp.com/blog_assets/Scikit_Learn_Cheat_Sheet_Python.pdf\n",
        "- For choosing appropriate ML model from scikit-learn: https://scikit-learn.org/stable/tutorial/machine_learning_map/index.html\n",
        "- DP0701EN-3-3-1-Clustering-k-means-py-v1.0 \n",
        "- DS0103EN-4-4-1-From-Modeling-to-Evaluation-v2.0\n",
        "- For choosing appropriate ML model from scikit-learn: https://scikit-learn.org/stable/tutorial/machine_learning_map/index.html\n",
        "- exploratory-data-analysis (some basic stats)\n",
        "- House_Sales (simple regression)\n",
        "- https://scikit-learn.org/stable/modules/generated/sklearn.model_selection.GridSearchCV.html"
      ]
    },
    {
      "cell_type": "markdown",
      "metadata": {
        "id": "RzsACt8XXPUk"
      },
      "source": [
        "- Scikit-learn is an open source Python library that implements a range of machine learning, preprocessing, cross-validation and visualization algorithms using a unified interface."
      ]
    },
    {
      "cell_type": "markdown",
      "metadata": {
        "id": "gZdQ8jFSXPUk"
      },
      "source": [
        "## A Basic Example"
      ]
    },
    {
      "cell_type": "code",
      "metadata": {
        "id": "lHgUwHJHXPUl",
        "colab": {
          "base_uri": "https://localhost:8080/"
        },
        "outputId": "a4ab6eac-7de8-499e-a3f2-3cd86eb8d531"
      },
      "source": [
        "from sklearn import neighbors, datasets, preprocessing\n",
        "from sklearn.model_selection import train_test_split\n",
        "from sklearn.metrics import accuracy_score\n",
        "iris = datasets.load_iris()\n",
        "X, y = iris.data[:, :], iris.target\n",
        "X_train, X_test, y_train, y_test = train_test_split(X, y, random_state=33)\n",
        "scaler = preprocessing.StandardScaler().fit(X_train) #or, preprocessing.StandardScaler().fit_transform(X)\n",
        "X_train = scaler.transform(X_train)\n",
        "X_test = scaler.transform(X_test)\n",
        "knn = neighbors.KNeighborsClassifier(n_neighbors=5)\n",
        "knn.fit(X_train, y_train)\n",
        "y_pred = knn.predict(X_test) #variable a.k.a yhat\n",
        "accuracy_score(y_test, y_pred)"
      ],
      "execution_count": null,
      "outputs": [
        {
          "output_type": "execute_result",
          "data": {
            "text/plain": [
              "0.8947368421052632"
            ]
          },
          "metadata": {},
          "execution_count": 82
        }
      ]
    },
    {
      "cell_type": "markdown",
      "metadata": {
        "id": "uHSbqiRWXPUm"
      },
      "source": [
        "#### Loading the data (also see numpy and pandas)"
      ]
    },
    {
      "cell_type": "markdown",
      "metadata": {
        "id": "CTSkQg4ZXPUm"
      },
      "source": [
        "Your data needs to be numeric and stored as NumPy arrays or SciPy sparse\n",
        "matrices. Other types that are convertible to numeric arrays, such as Pandas\n",
        "DataFrame, are also acceptable."
      ]
    },
    {
      "cell_type": "code",
      "metadata": {
        "id": "hQabiKxZXPUm"
      },
      "source": [
        "import numpy as np\n",
        "X = np.random.random((10,5))\n",
        "y = np.array(['M','M','F','F','M','F','M','M','F','F','F'])\n",
        "X[X < 0.7] = 0"
      ],
      "execution_count": null,
      "outputs": []
    },
    {
      "cell_type": "markdown",
      "metadata": {
        "id": "e0TdXN31XPUn"
      },
      "source": [
        "#### Training and Test Data"
      ]
    },
    {
      "cell_type": "code",
      "metadata": {
        "id": "miVDN8USXPUn"
      },
      "source": [
        "from sklearn.model_selection import train_test_split\n",
        "X, y = iris.data[:, :2], iris.target\n",
        "X_train, X_test, y_train, y_test = train_test_split(X, y, random_state=0)"
      ],
      "execution_count": null,
      "outputs": []
    },
    {
      "cell_type": "markdown",
      "metadata": {
        "id": "oXwwP0IzXPUo"
      },
      "source": [
        "##  Preprocessing The Data"
      ]
    },
    {
      "cell_type": "markdown",
      "metadata": {
        "id": "MDrJksg_XPUo"
      },
      "source": [
        "#### Standardization"
      ]
    },
    {
      "cell_type": "code",
      "metadata": {
        "id": "CezfJIvSXPUp"
      },
      "source": [
        "from sklearn.preprocessing import StandardScaler\n",
        "scaler = StandardScaler().fit(X_train)\n",
        "standardized_X = scaler.transform(X_train)\n",
        "standardized_X_test = scaler.transform(X_test)"
      ],
      "execution_count": null,
      "outputs": []
    },
    {
      "cell_type": "markdown",
      "metadata": {
        "id": "rLnDKx57XPUp"
      },
      "source": [
        "#### Normalization"
      ]
    },
    {
      "cell_type": "code",
      "metadata": {
        "id": "vFNfrfIiXPUp"
      },
      "source": [
        "from sklearn.preprocessing import Normalizer\n",
        "scaler = Normalizer().fit(X_train)\n",
        "normalized_X = scaler.transform(X_train)\n",
        "normalized_X_test = scaler.transform(X_test)"
      ],
      "execution_count": null,
      "outputs": []
    },
    {
      "cell_type": "markdown",
      "metadata": {
        "id": "MPuVbOMCXPUp"
      },
      "source": [
        "#### Binarization"
      ]
    },
    {
      "cell_type": "code",
      "metadata": {
        "id": "Sk4vZKAHXPUq"
      },
      "source": [
        "from sklearn.preprocessing import Binarizer\n",
        "binarizer = Binarizer(threshold=0.0).fit(X)\n",
        "binary_X = binarizer.transform(X)"
      ],
      "execution_count": null,
      "outputs": []
    },
    {
      "cell_type": "markdown",
      "metadata": {
        "id": "7sGRm-ZdXPUq"
      },
      "source": [
        "#### Encoding categorical features"
      ]
    },
    {
      "cell_type": "code",
      "metadata": {
        "id": "PZN_ClEFXPUq"
      },
      "source": [
        "from sklearn.preprocessing import LabelEncoder\n",
        "enc = LabelEncoder()\n",
        "y = enc.fit_transform(y)"
      ],
      "execution_count": null,
      "outputs": []
    },
    {
      "cell_type": "markdown",
      "metadata": {
        "id": "Z8dUubOxXPUr"
      },
      "source": [
        "#### Imputing missing values"
      ]
    },
    {
      "cell_type": "code",
      "metadata": {
        "id": "yiXlXPatXPUr",
        "colab": {
          "base_uri": "https://localhost:8080/"
        },
        "outputId": "83f16024-f926-4678-dcb1-c4c146145b4a"
      },
      "source": [
        "from sklearn.impute import SimpleImputer\n",
        "imputer = SimpleImputer(missing_values=np.nan, strategy='mean')\n",
        "imputer.fit_transform(X_train)"
      ],
      "execution_count": null,
      "outputs": [
        {
          "output_type": "execute_result",
          "data": {
            "text/plain": [
              "array([[5.9, 3. ],\n",
              "       [5.8, 2.6],\n",
              "       [6.8, 3. ],\n",
              "       [4.7, 3.2],\n",
              "       [6.9, 3.1],\n",
              "       [5. , 3.5],\n",
              "       [5.4, 3.7],\n",
              "       [5. , 2. ],\n",
              "       [6.5, 3. ],\n",
              "       [6.7, 3.3],\n",
              "       [6. , 2.2],\n",
              "       [6.7, 2.5],\n",
              "       [5.6, 2.5],\n",
              "       [7.7, 3. ],\n",
              "       [6.3, 3.3],\n",
              "       [5.5, 2.4],\n",
              "       [6.3, 2.7],\n",
              "       [6.3, 2.8],\n",
              "       [4.9, 2.5],\n",
              "       [6.3, 2.5],\n",
              "       [7. , 3.2],\n",
              "       [6.5, 3. ],\n",
              "       [6. , 3.4],\n",
              "       [4.8, 3.1],\n",
              "       [5.8, 2.7],\n",
              "       [5.6, 2.7],\n",
              "       [5.6, 2.9],\n",
              "       [5.5, 2.5],\n",
              "       [6.1, 3. ],\n",
              "       [7.2, 3.2],\n",
              "       [5.3, 3.7],\n",
              "       [4.3, 3. ],\n",
              "       [6.4, 2.7],\n",
              "       [5.7, 3. ],\n",
              "       [5.4, 3.4],\n",
              "       [5.7, 4.4],\n",
              "       [6.9, 3.1],\n",
              "       [4.6, 3.1],\n",
              "       [5.9, 3. ],\n",
              "       [5.1, 2.5],\n",
              "       [4.6, 3.4],\n",
              "       [6.2, 2.2],\n",
              "       [7.2, 3.6],\n",
              "       [5.7, 2.9],\n",
              "       [4.8, 3. ],\n",
              "       [7.1, 3. ],\n",
              "       [6.9, 3.2],\n",
              "       [6.5, 3. ],\n",
              "       [6.4, 2.8],\n",
              "       [5.1, 3.8],\n",
              "       [4.8, 3.4],\n",
              "       [6.5, 3.2],\n",
              "       [6.7, 3.3],\n",
              "       [4.5, 2.3],\n",
              "       [6.2, 3.4],\n",
              "       [4.9, 3. ],\n",
              "       [5.7, 2.5],\n",
              "       [6.9, 3.1],\n",
              "       [4.4, 3.2],\n",
              "       [5. , 3.6],\n",
              "       [7.2, 3. ],\n",
              "       [5.1, 3.5],\n",
              "       [4.4, 3. ],\n",
              "       [5.4, 3.9],\n",
              "       [5.5, 2.3],\n",
              "       [6.8, 3.2],\n",
              "       [7.6, 3. ],\n",
              "       [5.1, 3.5],\n",
              "       [4.9, 3.1],\n",
              "       [5.2, 3.4],\n",
              "       [5.7, 2.8],\n",
              "       [6.6, 3. ],\n",
              "       [5. , 3.2],\n",
              "       [5.1, 3.3],\n",
              "       [6.4, 2.9],\n",
              "       [5.4, 3.4],\n",
              "       [7.7, 2.6],\n",
              "       [4.9, 2.4],\n",
              "       [7.9, 3.8],\n",
              "       [6.7, 3.1],\n",
              "       [5.2, 4.1],\n",
              "       [6. , 3. ],\n",
              "       [5.8, 4. ],\n",
              "       [7.7, 2.8],\n",
              "       [5.1, 3.8],\n",
              "       [4.7, 3.2],\n",
              "       [7.4, 2.8],\n",
              "       [5. , 3.3],\n",
              "       [6.3, 3.4],\n",
              "       [5.7, 2.8],\n",
              "       [5.8, 2.7],\n",
              "       [5.7, 2.6],\n",
              "       [6.4, 3.2],\n",
              "       [6.7, 3. ],\n",
              "       [6.3, 2.5],\n",
              "       [6.7, 3. ],\n",
              "       [5. , 3. ],\n",
              "       [5.5, 2.4],\n",
              "       [6.7, 3.1],\n",
              "       [5.8, 2.7],\n",
              "       [5.1, 3.4],\n",
              "       [6.6, 2.9],\n",
              "       [5.6, 3. ],\n",
              "       [5.9, 3.2],\n",
              "       [6.3, 2.3],\n",
              "       [5.5, 3.5],\n",
              "       [5.1, 3.7],\n",
              "       [4.9, 3.1],\n",
              "       [6.3, 2.9],\n",
              "       [5.8, 2.7],\n",
              "       [7.7, 3.8],\n",
              "       [4.6, 3.2]])"
            ]
          },
          "metadata": {},
          "execution_count": 89
        }
      ]
    },
    {
      "cell_type": "markdown",
      "metadata": {
        "id": "dEXGnxTHXPUr"
      },
      "source": [
        "#### Generating polynomial features"
      ]
    },
    {
      "cell_type": "code",
      "metadata": {
        "id": "Vh-532rvXPUr",
        "colab": {
          "base_uri": "https://localhost:8080/"
        },
        "outputId": "945baaff-a52f-41cd-8abc-2ebdc781c31f"
      },
      "source": [
        "from sklearn.preprocessing import PolynomialFeatures\n",
        "poly = PolynomialFeatures(5)\n",
        "poly.fit_transform(X) "
      ],
      "execution_count": null,
      "outputs": [
        {
          "output_type": "execute_result",
          "data": {
            "text/plain": [
              "array([[1.00000000e+00, 5.10000000e+00, 3.50000000e+00, ...,\n",
              "        1.11517875e+03, 7.65318750e+02, 5.25218750e+02],\n",
              "       [1.00000000e+00, 4.90000000e+00, 3.00000000e+00, ...,\n",
              "        6.48270000e+02, 3.96900000e+02, 2.43000000e+02],\n",
              "       [1.00000000e+00, 4.70000000e+00, 3.20000000e+00, ...,\n",
              "        7.23845120e+02, 4.92830720e+02, 3.35544320e+02],\n",
              "       ...,\n",
              "       [1.00000000e+00, 6.50000000e+00, 3.00000000e+00, ...,\n",
              "        1.14075000e+03, 5.26500000e+02, 2.43000000e+02],\n",
              "       [1.00000000e+00, 6.20000000e+00, 3.40000000e+00, ...,\n",
              "        1.51084576e+03, 8.28528320e+02, 4.54354240e+02],\n",
              "       [1.00000000e+00, 5.90000000e+00, 3.00000000e+00, ...,\n",
              "        9.39870000e+02, 4.77900000e+02, 2.43000000e+02]])"
            ]
          },
          "metadata": {},
          "execution_count": 90
        }
      ]
    },
    {
      "cell_type": "markdown",
      "metadata": {
        "id": "tvRHyK--XPUr"
      },
      "source": [
        "## Create Your Model"
      ]
    },
    {
      "cell_type": "markdown",
      "metadata": {
        "id": "qKAXuq88XPUs"
      },
      "source": [
        "#### Supervised Learning Estimators"
      ]
    },
    {
      "cell_type": "code",
      "metadata": {
        "id": "ZctRTaPFXPUs",
        "colab": {
          "base_uri": "https://localhost:8080/",
          "height": 636
        },
        "outputId": "b2fbe685-70a1-4657-81f4-b13222d6f3f2"
      },
      "source": [
        "# Linear Regression\n",
        "from sklearn.linear_model import LinearRegression\n",
        "lr = LinearRegression(normalize=True)\n",
        "# Support Vector Machines (SVM)\n",
        "from sklearn.svm import SVC\n",
        "svc = SVC(kernel='linear')\n",
        "# Naive Bayes\n",
        "from sklearn.naive_bayes import GaussianNB\n",
        "gnb = GaussianNB()\n",
        "# KNN\n",
        "from sklearn import neighbors\n",
        "knn = neighbors.KNeighborsClassifier(n_neighbors=5)\n",
        "#Decision tree\n",
        "from sklearn import tree\n",
        "!conda install python-graphviz --yes\n",
        "import graphviz\n",
        "from sklearn.tree import export_graphviz\n",
        "bamboo_tree = tree.DecisionTreeClassifier(max_depth=3)\n",
        "bamboo_tree.fit(X_train, y_train)\n",
        "export_graphviz(bamboo_tree,\n",
        "                feature_names=[\"feature1\", \"feature2\"],\n",
        "                out_file=\"bamboo_tree.dot\",\n",
        "                class_names=np.array(np.unique(y_train)).astype('str').tolist(),\n",
        "                filled=True,\n",
        "                node_ids=True,\n",
        "                special_characters=True,\n",
        "                impurity=False,\n",
        "                label=\"all\",\n",
        "                leaves_parallel=False)\n",
        "\n",
        "with open(\"bamboo_tree.dot\") as bamboo_tree_image:\n",
        "    bamboo_tree_graph = bamboo_tree_image.read()\n",
        "graphviz.Source(bamboo_tree_graph)"
      ],
      "execution_count": null,
      "outputs": [
        {
          "output_type": "stream",
          "name": "stdout",
          "text": [
            "/bin/bash: conda: command not found\n"
          ]
        },
        {
          "output_type": "execute_result",
          "data": {
            "text/plain": [
              "<graphviz.files.Source at 0x7effca2343d0>"
            ],
            "image/svg+xml": "<?xml version=\"1.0\" encoding=\"UTF-8\" standalone=\"no\"?>\n<!DOCTYPE svg PUBLIC \"-//W3C//DTD SVG 1.1//EN\"\n \"http://www.w3.org/Graphics/SVG/1.1/DTD/svg11.dtd\">\n<!-- Generated by graphviz version 2.40.1 (20161225.0304)\n -->\n<!-- Title: Tree Pages: 1 -->\n<svg width=\"826pt\" height=\"433pt\"\n viewBox=\"0.00 0.00 826.00 433.00\" xmlns=\"http://www.w3.org/2000/svg\" xmlns:xlink=\"http://www.w3.org/1999/xlink\">\n<g id=\"graph0\" class=\"graph\" transform=\"scale(1 1) rotate(0) translate(4 429)\">\n<title>Tree</title>\n<polygon fill=\"#ffffff\" stroke=\"transparent\" points=\"-4,4 -4,-429 822,-429 822,4 -4,4\"/>\n<!-- 0 -->\n<g id=\"node1\" class=\"node\">\n<title>0</title>\n<polygon fill=\"#f8f4fe\" stroke=\"#000000\" points=\"465.5,-425 325.5,-425 325.5,-342 465.5,-342 465.5,-425\"/>\n<text text-anchor=\"start\" x=\"368.5\" y=\"-409.8\" font-family=\"Helvetica,sans-Serif\" font-size=\"14.00\" fill=\"#000000\">node #0</text>\n<text text-anchor=\"start\" x=\"347\" y=\"-394.8\" font-family=\"Helvetica,sans-Serif\" font-size=\"14.00\" fill=\"#000000\">feature1 ≤ 5.45</text>\n<text text-anchor=\"start\" x=\"347.5\" y=\"-379.8\" font-family=\"Helvetica,sans-Serif\" font-size=\"14.00\" fill=\"#000000\">samples = 112</text>\n<text text-anchor=\"start\" x=\"333.5\" y=\"-364.8\" font-family=\"Helvetica,sans-Serif\" font-size=\"14.00\" fill=\"#000000\">value = [37, 34, 41]</text>\n<text text-anchor=\"start\" x=\"366.5\" y=\"-349.8\" font-family=\"Helvetica,sans-Serif\" font-size=\"14.00\" fill=\"#000000\">class = 2</text>\n</g>\n<!-- 1 -->\n<g id=\"node2\" class=\"node\">\n<title>1</title>\n<polygon fill=\"#e88f50\" stroke=\"#000000\" points=\"385,-306 262,-306 262,-223 385,-223 385,-306\"/>\n<text text-anchor=\"start\" x=\"296.5\" y=\"-290.8\" font-family=\"Helvetica,sans-Serif\" font-size=\"14.00\" fill=\"#000000\">node #1</text>\n<text text-anchor=\"start\" x=\"275\" y=\"-275.8\" font-family=\"Helvetica,sans-Serif\" font-size=\"14.00\" fill=\"#000000\">feature2 ≤ 2.75</text>\n<text text-anchor=\"start\" x=\"279.5\" y=\"-260.8\" font-family=\"Helvetica,sans-Serif\" font-size=\"14.00\" fill=\"#000000\">samples = 38</text>\n<text text-anchor=\"start\" x=\"270\" y=\"-245.8\" font-family=\"Helvetica,sans-Serif\" font-size=\"14.00\" fill=\"#000000\">value = [34, 3, 1]</text>\n<text text-anchor=\"start\" x=\"294.5\" y=\"-230.8\" font-family=\"Helvetica,sans-Serif\" font-size=\"14.00\" fill=\"#000000\">class = 0</text>\n</g>\n<!-- 0&#45;&gt;1 -->\n<g id=\"edge1\" class=\"edge\">\n<title>0&#45;&gt;1</title>\n<path fill=\"none\" stroke=\"#000000\" d=\"M370.3179,-341.8796C365.0867,-333.2335 359.5195,-324.0322 354.1177,-315.1042\"/>\n<polygon fill=\"#000000\" stroke=\"#000000\" points=\"356.9608,-313.0421 348.7896,-306.2981 350.9717,-316.6658 356.9608,-313.0421\"/>\n<text text-anchor=\"middle\" x=\"342.816\" y=\"-326.8739\" font-family=\"Helvetica,sans-Serif\" font-size=\"14.00\" fill=\"#000000\">True</text>\n</g>\n<!-- 6 -->\n<g id=\"node7\" class=\"node\">\n<title>6</title>\n<polygon fill=\"#e5d6fa\" stroke=\"#000000\" points=\"534,-306 403,-306 403,-223 534,-223 534,-306\"/>\n<text text-anchor=\"start\" x=\"441.5\" y=\"-290.8\" font-family=\"Helvetica,sans-Serif\" font-size=\"14.00\" fill=\"#000000\">node #6</text>\n<text text-anchor=\"start\" x=\"420\" y=\"-275.8\" font-family=\"Helvetica,sans-Serif\" font-size=\"14.00\" fill=\"#000000\">feature1 ≤ 5.95</text>\n<text text-anchor=\"start\" x=\"424.5\" y=\"-260.8\" font-family=\"Helvetica,sans-Serif\" font-size=\"14.00\" fill=\"#000000\">samples = 74</text>\n<text text-anchor=\"start\" x=\"411\" y=\"-245.8\" font-family=\"Helvetica,sans-Serif\" font-size=\"14.00\" fill=\"#000000\">value = [3, 31, 40]</text>\n<text text-anchor=\"start\" x=\"439.5\" y=\"-230.8\" font-family=\"Helvetica,sans-Serif\" font-size=\"14.00\" fill=\"#000000\">class = 2</text>\n</g>\n<!-- 0&#45;&gt;6 -->\n<g id=\"edge6\" class=\"edge\">\n<title>0&#45;&gt;6</title>\n<path fill=\"none\" stroke=\"#000000\" d=\"M421.0319,-341.8796C426.391,-333.1434 432.0979,-323.8404 437.6282,-314.8253\"/>\n<polygon fill=\"#000000\" stroke=\"#000000\" points=\"440.6135,-316.6522 442.8592,-306.2981 434.6467,-312.9919 440.6135,-316.6522\"/>\n<text text-anchor=\"middle\" x=\"448.6839\" y=\"-326.9101\" font-family=\"Helvetica,sans-Serif\" font-size=\"14.00\" fill=\"#000000\">False</text>\n</g>\n<!-- 2 -->\n<g id=\"node3\" class=\"node\">\n<title>2</title>\n<polygon fill=\"#9cf2c0\" stroke=\"#000000\" points=\"246,-187 131,-187 131,-104 246,-104 246,-187\"/>\n<text text-anchor=\"start\" x=\"161.5\" y=\"-171.8\" font-family=\"Helvetica,sans-Serif\" font-size=\"14.00\" fill=\"#000000\">node #2</text>\n<text text-anchor=\"start\" x=\"144\" y=\"-156.8\" font-family=\"Helvetica,sans-Serif\" font-size=\"14.00\" fill=\"#000000\">feature1 ≤ 4.7</text>\n<text text-anchor=\"start\" x=\"149\" y=\"-141.8\" font-family=\"Helvetica,sans-Serif\" font-size=\"14.00\" fill=\"#000000\">samples = 5</text>\n<text text-anchor=\"start\" x=\"139\" y=\"-126.8\" font-family=\"Helvetica,sans-Serif\" font-size=\"14.00\" fill=\"#000000\">value = [1, 3, 1]</text>\n<text text-anchor=\"start\" x=\"159.5\" y=\"-111.8\" font-family=\"Helvetica,sans-Serif\" font-size=\"14.00\" fill=\"#000000\">class = 1</text>\n</g>\n<!-- 1&#45;&gt;2 -->\n<g id=\"edge2\" class=\"edge\">\n<title>1&#45;&gt;2</title>\n<path fill=\"none\" stroke=\"#000000\" d=\"M276.2836,-222.8796C265.7598,-213.6031 254.5109,-203.6874 243.6979,-194.1559\"/>\n<polygon fill=\"#000000\" stroke=\"#000000\" points=\"245.734,-191.2851 235.918,-187.2981 241.1052,-196.5362 245.734,-191.2851\"/>\n</g>\n<!-- 5 -->\n<g id=\"node6\" class=\"node\">\n<title>5</title>\n<polygon fill=\"#e58139\" stroke=\"#000000\" points=\"387,-179.5 264,-179.5 264,-111.5 387,-111.5 387,-179.5\"/>\n<text text-anchor=\"start\" x=\"298.5\" y=\"-164.3\" font-family=\"Helvetica,sans-Serif\" font-size=\"14.00\" fill=\"#000000\">node #5</text>\n<text text-anchor=\"start\" x=\"281.5\" y=\"-149.3\" font-family=\"Helvetica,sans-Serif\" font-size=\"14.00\" fill=\"#000000\">samples = 33</text>\n<text text-anchor=\"start\" x=\"272\" y=\"-134.3\" font-family=\"Helvetica,sans-Serif\" font-size=\"14.00\" fill=\"#000000\">value = [33, 0, 0]</text>\n<text text-anchor=\"start\" x=\"296.5\" y=\"-119.3\" font-family=\"Helvetica,sans-Serif\" font-size=\"14.00\" fill=\"#000000\">class = 0</text>\n</g>\n<!-- 1&#45;&gt;5 -->\n<g id=\"edge5\" class=\"edge\">\n<title>1&#45;&gt;5</title>\n<path fill=\"none\" stroke=\"#000000\" d=\"M324.1995,-222.8796C324.3788,-212.2134 324.5722,-200.7021 324.7538,-189.9015\"/>\n<polygon fill=\"#000000\" stroke=\"#000000\" points=\"328.2546,-189.8724 324.9233,-179.8149 321.2556,-189.7547 328.2546,-189.8724\"/>\n</g>\n<!-- 3 -->\n<g id=\"node4\" class=\"node\">\n<title>3</title>\n<polygon fill=\"#e58139\" stroke=\"#000000\" points=\"115,-68 0,-68 0,0 115,0 115,-68\"/>\n<text text-anchor=\"start\" x=\"30.5\" y=\"-52.8\" font-family=\"Helvetica,sans-Serif\" font-size=\"14.00\" fill=\"#000000\">node #3</text>\n<text text-anchor=\"start\" x=\"18\" y=\"-37.8\" font-family=\"Helvetica,sans-Serif\" font-size=\"14.00\" fill=\"#000000\">samples = 1</text>\n<text text-anchor=\"start\" x=\"8\" y=\"-22.8\" font-family=\"Helvetica,sans-Serif\" font-size=\"14.00\" fill=\"#000000\">value = [1, 0, 0]</text>\n<text text-anchor=\"start\" x=\"28.5\" y=\"-7.8\" font-family=\"Helvetica,sans-Serif\" font-size=\"14.00\" fill=\"#000000\">class = 0</text>\n</g>\n<!-- 2&#45;&gt;3 -->\n<g id=\"edge3\" class=\"edge\">\n<title>2&#45;&gt;3</title>\n<path fill=\"none\" stroke=\"#000000\" d=\"M139.7204,-103.9815C128.5985,-94.5151 116.7872,-84.462 105.6901,-75.0168\"/>\n<polygon fill=\"#000000\" stroke=\"#000000\" points=\"107.6396,-72.08 97.756,-68.2637 103.1025,-77.4105 107.6396,-72.08\"/>\n</g>\n<!-- 4 -->\n<g id=\"node5\" class=\"node\">\n<title>4</title>\n<polygon fill=\"#7beeab\" stroke=\"#000000\" points=\"248,-68 133,-68 133,0 248,0 248,-68\"/>\n<text text-anchor=\"start\" x=\"163.5\" y=\"-52.8\" font-family=\"Helvetica,sans-Serif\" font-size=\"14.00\" fill=\"#000000\">node #4</text>\n<text text-anchor=\"start\" x=\"151\" y=\"-37.8\" font-family=\"Helvetica,sans-Serif\" font-size=\"14.00\" fill=\"#000000\">samples = 4</text>\n<text text-anchor=\"start\" x=\"141\" y=\"-22.8\" font-family=\"Helvetica,sans-Serif\" font-size=\"14.00\" fill=\"#000000\">value = [0, 3, 1]</text>\n<text text-anchor=\"start\" x=\"161.5\" y=\"-7.8\" font-family=\"Helvetica,sans-Serif\" font-size=\"14.00\" fill=\"#000000\">class = 1</text>\n</g>\n<!-- 2&#45;&gt;4 -->\n<g id=\"edge4\" class=\"edge\">\n<title>2&#45;&gt;4</title>\n<path fill=\"none\" stroke=\"#000000\" d=\"M189.2447,-103.9815C189.3947,-95.618 189.553,-86.7965 189.7046,-78.3409\"/>\n<polygon fill=\"#000000\" stroke=\"#000000\" points=\"193.2054,-78.3249 189.8854,-68.2637 186.2065,-78.1993 193.2054,-78.3249\"/>\n</g>\n<!-- 7 -->\n<g id=\"node8\" class=\"node\">\n<title>7</title>\n<polygon fill=\"#7beeab\" stroke=\"#000000\" points=\"529,-187 406,-187 406,-104 529,-104 529,-187\"/>\n<text text-anchor=\"start\" x=\"440.5\" y=\"-171.8\" font-family=\"Helvetica,sans-Serif\" font-size=\"14.00\" fill=\"#000000\">node #7</text>\n<text text-anchor=\"start\" x=\"419\" y=\"-156.8\" font-family=\"Helvetica,sans-Serif\" font-size=\"14.00\" fill=\"#000000\">feature2 ≤ 3.35</text>\n<text text-anchor=\"start\" x=\"423.5\" y=\"-141.8\" font-family=\"Helvetica,sans-Serif\" font-size=\"14.00\" fill=\"#000000\">samples = 25</text>\n<text text-anchor=\"start\" x=\"414\" y=\"-126.8\" font-family=\"Helvetica,sans-Serif\" font-size=\"14.00\" fill=\"#000000\">value = [3, 18, 4]</text>\n<text text-anchor=\"start\" x=\"438.5\" y=\"-111.8\" font-family=\"Helvetica,sans-Serif\" font-size=\"14.00\" fill=\"#000000\">class = 1</text>\n</g>\n<!-- 6&#45;&gt;7 -->\n<g id=\"edge7\" class=\"edge\">\n<title>6&#45;&gt;7</title>\n<path fill=\"none\" stroke=\"#000000\" d=\"M468.1502,-222.8796C468.0814,-214.6838 468.0083,-205.9891 467.937,-197.5013\"/>\n<polygon fill=\"#000000\" stroke=\"#000000\" points=\"471.4352,-197.2683 467.8512,-187.2981 464.4355,-197.3272 471.4352,-197.2683\"/>\n</g>\n<!-- 10 -->\n<g id=\"node11\" class=\"node\">\n<title>10</title>\n<polygon fill=\"#ae80ee\" stroke=\"#000000\" points=\"678,-187 547,-187 547,-104 678,-104 678,-187\"/>\n<text text-anchor=\"start\" x=\"581.5\" y=\"-171.8\" font-family=\"Helvetica,sans-Serif\" font-size=\"14.00\" fill=\"#000000\">node #10</text>\n<text text-anchor=\"start\" x=\"564\" y=\"-156.8\" font-family=\"Helvetica,sans-Serif\" font-size=\"14.00\" fill=\"#000000\">feature1 ≤ 7.05</text>\n<text text-anchor=\"start\" x=\"568.5\" y=\"-141.8\" font-family=\"Helvetica,sans-Serif\" font-size=\"14.00\" fill=\"#000000\">samples = 49</text>\n<text text-anchor=\"start\" x=\"555\" y=\"-126.8\" font-family=\"Helvetica,sans-Serif\" font-size=\"14.00\" fill=\"#000000\">value = [0, 13, 36]</text>\n<text text-anchor=\"start\" x=\"583.5\" y=\"-111.8\" font-family=\"Helvetica,sans-Serif\" font-size=\"14.00\" fill=\"#000000\">class = 2</text>\n</g>\n<!-- 6&#45;&gt;10 -->\n<g id=\"edge10\" class=\"edge\">\n<title>6&#45;&gt;10</title>\n<path fill=\"none\" stroke=\"#000000\" d=\"M518.8642,-222.8796C530.1985,-213.513 542.3215,-203.4948 553.9581,-193.8784\"/>\n<polygon fill=\"#000000\" stroke=\"#000000\" points=\"556.4419,-196.3663 561.9208,-187.2981 551.9827,-190.9703 556.4419,-196.3663\"/>\n</g>\n<!-- 8 -->\n<g id=\"node9\" class=\"node\">\n<title>8</title>\n<polygon fill=\"#65eb9d\" stroke=\"#000000\" points=\"393,-68 270,-68 270,0 393,0 393,-68\"/>\n<text text-anchor=\"start\" x=\"304.5\" y=\"-52.8\" font-family=\"Helvetica,sans-Serif\" font-size=\"14.00\" fill=\"#000000\">node #8</text>\n<text text-anchor=\"start\" x=\"287.5\" y=\"-37.8\" font-family=\"Helvetica,sans-Serif\" font-size=\"14.00\" fill=\"#000000\">samples = 22</text>\n<text text-anchor=\"start\" x=\"278\" y=\"-22.8\" font-family=\"Helvetica,sans-Serif\" font-size=\"14.00\" fill=\"#000000\">value = [0, 18, 4]</text>\n<text text-anchor=\"start\" x=\"302.5\" y=\"-7.8\" font-family=\"Helvetica,sans-Serif\" font-size=\"14.00\" fill=\"#000000\">class = 1</text>\n</g>\n<!-- 7&#45;&gt;8 -->\n<g id=\"edge8\" class=\"edge\">\n<title>7&#45;&gt;8</title>\n<path fill=\"none\" stroke=\"#000000\" d=\"M416.8586,-103.9815C405.2001,-94.4232 392.812,-84.2668 381.1941,-74.7419\"/>\n<polygon fill=\"#000000\" stroke=\"#000000\" points=\"383.2448,-71.8972 373.2925,-68.2637 378.8067,-77.3105 383.2448,-71.8972\"/>\n</g>\n<!-- 9 -->\n<g id=\"node10\" class=\"node\">\n<title>9</title>\n<polygon fill=\"#e58139\" stroke=\"#000000\" points=\"526,-68 411,-68 411,0 526,0 526,-68\"/>\n<text text-anchor=\"start\" x=\"441.5\" y=\"-52.8\" font-family=\"Helvetica,sans-Serif\" font-size=\"14.00\" fill=\"#000000\">node #9</text>\n<text text-anchor=\"start\" x=\"429\" y=\"-37.8\" font-family=\"Helvetica,sans-Serif\" font-size=\"14.00\" fill=\"#000000\">samples = 3</text>\n<text text-anchor=\"start\" x=\"419\" y=\"-22.8\" font-family=\"Helvetica,sans-Serif\" font-size=\"14.00\" fill=\"#000000\">value = [3, 0, 0]</text>\n<text text-anchor=\"start\" x=\"439.5\" y=\"-7.8\" font-family=\"Helvetica,sans-Serif\" font-size=\"14.00\" fill=\"#000000\">class = 0</text>\n</g>\n<!-- 7&#45;&gt;9 -->\n<g id=\"edge9\" class=\"edge\">\n<title>7&#45;&gt;9</title>\n<path fill=\"none\" stroke=\"#000000\" d=\"M467.8724,-103.9815C467.9474,-95.618 468.0265,-86.7965 468.1023,-78.3409\"/>\n<polygon fill=\"#000000\" stroke=\"#000000\" points=\"471.6028,-78.2947 468.1927,-68.2637 464.6031,-78.2318 471.6028,-78.2947\"/>\n</g>\n<!-- 11 -->\n<g id=\"node12\" class=\"node\">\n<title>11</title>\n<polygon fill=\"#c3a0f3\" stroke=\"#000000\" points=\"677,-68 546,-68 546,0 677,0 677,-68\"/>\n<text text-anchor=\"start\" x=\"580.5\" y=\"-52.8\" font-family=\"Helvetica,sans-Serif\" font-size=\"14.00\" fill=\"#000000\">node #11</text>\n<text text-anchor=\"start\" x=\"567.5\" y=\"-37.8\" font-family=\"Helvetica,sans-Serif\" font-size=\"14.00\" fill=\"#000000\">samples = 38</text>\n<text text-anchor=\"start\" x=\"554\" y=\"-22.8\" font-family=\"Helvetica,sans-Serif\" font-size=\"14.00\" fill=\"#000000\">value = [0, 13, 25]</text>\n<text text-anchor=\"start\" x=\"582.5\" y=\"-7.8\" font-family=\"Helvetica,sans-Serif\" font-size=\"14.00\" fill=\"#000000\">class = 2</text>\n</g>\n<!-- 10&#45;&gt;11 -->\n<g id=\"edge11\" class=\"edge\">\n<title>10&#45;&gt;11</title>\n<path fill=\"none\" stroke=\"#000000\" d=\"M612.1276,-103.9815C612.0526,-95.618 611.9735,-86.7965 611.8977,-78.3409\"/>\n<polygon fill=\"#000000\" stroke=\"#000000\" points=\"615.3969,-78.2318 611.8073,-68.2637 608.3972,-78.2947 615.3969,-78.2318\"/>\n</g>\n<!-- 12 -->\n<g id=\"node13\" class=\"node\">\n<title>12</title>\n<polygon fill=\"#8139e5\" stroke=\"#000000\" points=\"818,-68 695,-68 695,0 818,0 818,-68\"/>\n<text text-anchor=\"start\" x=\"725.5\" y=\"-52.8\" font-family=\"Helvetica,sans-Serif\" font-size=\"14.00\" fill=\"#000000\">node #12</text>\n<text text-anchor=\"start\" x=\"712.5\" y=\"-37.8\" font-family=\"Helvetica,sans-Serif\" font-size=\"14.00\" fill=\"#000000\">samples = 11</text>\n<text text-anchor=\"start\" x=\"703\" y=\"-22.8\" font-family=\"Helvetica,sans-Serif\" font-size=\"14.00\" fill=\"#000000\">value = [0, 0, 11]</text>\n<text text-anchor=\"start\" x=\"727.5\" y=\"-7.8\" font-family=\"Helvetica,sans-Serif\" font-size=\"14.00\" fill=\"#000000\">class = 2</text>\n</g>\n<!-- 10&#45;&gt;12 -->\n<g id=\"edge12\" class=\"edge\">\n<title>10&#45;&gt;12</title>\n<path fill=\"none\" stroke=\"#000000\" d=\"M666.1203,-103.9815C678.5833,-94.3313 691.8338,-84.0714 704.2373,-74.4673\"/>\n<polygon fill=\"#000000\" stroke=\"#000000\" points=\"706.4851,-77.1534 712.2492,-68.2637 702.1995,-71.6186 706.4851,-77.1534\"/>\n</g>\n</g>\n</svg>\n"
          },
          "metadata": {},
          "execution_count": 91
        }
      ]
    },
    {
      "cell_type": "markdown",
      "metadata": {
        "id": "X1LLVQ5DXPUs"
      },
      "source": [
        "#### Unsupervised Learning Estimators"
      ]
    },
    {
      "cell_type": "code",
      "metadata": {
        "id": "w4tmLG1IXPUs",
        "colab": {
          "base_uri": "https://localhost:8080/",
          "height": 594
        },
        "outputId": "ad048dd8-5c38-4193-9c68-04783e83a393"
      },
      "source": [
        "import matplotlib.pyplot as plt\n",
        "# Principal Component Analysis (PCA)\n",
        "from sklearn.decomposition import PCA\n",
        "pca = PCA(n_components=0.95)\n",
        "# K Means\n",
        "from sklearn.cluster import KMeans\n",
        "k_means = KMeans(n_clusters=3, random_state=0)\n",
        "#K Means graph example\n",
        "k_means = KMeans(init=\"k-means++\", n_clusters=4, n_init=12)\n",
        "k_means.fit(X)\n",
        "k_means_labels = k_means.labels_\n",
        "k_means_cluster_centers = k_means.cluster_centers_\n",
        "fig = plt.figure(figsize=(15, 10))\n",
        "colors = plt.cm.Spectral(np.linspace(0, 1, len(set(k_means_labels))))\n",
        "ax = fig.add_subplot(1, 1, 1)\n",
        "for k, col in zip(range(len([[4,4], [-2, -1], [2, -3], [1, 1]])), colors):\n",
        "    my_members = (k_means_labels == k)\n",
        "    cluster_center = k_means_cluster_centers[k]\n",
        "    ax.plot(X[my_members, 0], X[my_members, 1], 'w', markerfacecolor=col, marker='.')\n",
        "    ax.plot(cluster_center[0], cluster_center[1], 'o', markerfacecolor=col,  markeredgecolor='k', markersize=6)\n",
        "ax.set_title('KMeans')\n",
        "ax.set_xticks(())\n",
        "ax.set_yticks(())\n",
        "plt.show()"
      ],
      "execution_count": null,
      "outputs": [
        {
          "output_type": "display_data",
          "data": {
            "text/plain": [
              "<Figure size 1080x720 with 1 Axes>"
            ],
            "image/png": "[encoded data removed]"
          },
          "metadata": {}
        }
      ]
    },
    {
      "cell_type": "markdown",
      "metadata": {
        "id": "GDGAJtJAXPUs"
      },
      "source": [
        "#### Model fitting"
      ]
    },
    {
      "cell_type": "code",
      "metadata": {
        "id": "DN8Q3OVBXPUs",
        "colab": {
          "base_uri": "https://localhost:8080/"
        },
        "outputId": "dd3899be-0997-4b65-aa52-9663c4d89adb"
      },
      "source": [
        "# Supervised learning\n",
        "lr.fit(X, y) #fit the model to the data\n",
        "knn.fit(X_train, y_train)\n",
        "svc.fit(X_train, y_train)\n",
        "# Unsupervised Learning\n",
        "k_means.fit(X_train) # fit the model to the data\n",
        "pca_model = pca.fit_transform(X_train) # fit to data, then transform it"
      ],
      "execution_count": null,
      "outputs": [
        {
          "output_type": "stream",
          "name": "stderr",
          "text": [
            "/usr/local/lib/python3.7/dist-packages/sklearn/linear_model/_base.py:145: FutureWarning: 'normalize' was deprecated in version 1.0 and will be removed in 1.2.\n",
            "If you wish to scale the data, use Pipeline with a StandardScaler in a preprocessing stage. To reproduce the previous behavior:\n",
            "\n",
            "from sklearn.pipeline import make_pipeline\n",
            "\n",
            "model = make_pipeline(StandardScaler(with_mean=False), LinearRegression())\n",
            "\n",
            "If you wish to pass a sample_weight parameter, you need to pass it as a fit parameter to each step of the pipeline as follows:\n",
            "\n",
            "kwargs = {s[0] + '__sample_weight': sample_weight for s in model.steps}\n",
            "model.fit(X, y, **kwargs)\n",
            "\n",
            "\n",
            "  FutureWarning,\n"
          ]
        }
      ]
    },
    {
      "cell_type": "markdown",
      "metadata": {
        "id": "Q1NRbNDhXPUt"
      },
      "source": [
        "#### Prediction"
      ]
    },
    {
      "cell_type": "code",
      "metadata": {
        "id": "iY1hWtblXPUt"
      },
      "source": [
        "# Supervised Estimators\n",
        "y_pred = svc.predict(np.random.random((2,2))) #predict labels\n",
        "y_pred = lr.predict(X_test) #predict labels\n",
        "y_pred = knn.predict_proba(X_test) #estimate probability of a label\n",
        "# Unsupervised Estimators\n",
        "y_pred = k_means.predict(X_test) #predict labels in clustering algorithms"
      ],
      "execution_count": null,
      "outputs": []
    },
    {
      "cell_type": "markdown",
      "metadata": {
        "id": "8nz5hfF_XPUt"
      },
      "source": [
        "## Evaluate Your Model’s Performance"
      ]
    },
    {
      "cell_type": "markdown",
      "metadata": {
        "id": "bUE636h5XPUt"
      },
      "source": [
        "#### Classification Metrics"
      ]
    },
    {
      "cell_type": "code",
      "metadata": {
        "id": "ElANzwFEXPUt",
        "colab": {
          "base_uri": "https://localhost:8080/"
        },
        "outputId": "12dad947-933b-482f-f21a-31a1390d45f0"
      },
      "source": [
        "# Accuracy Score\n",
        "knn.score(X_test, y_test) #Estimator score method \n",
        "from sklearn.metrics import accuracy_score # Metric scoring functions\n",
        "accuracy_score(y_test, y_pred)\n",
        "# Classification Report\n",
        "from sklearn.metrics import classification_report #Precision, recall, f1-score\n",
        "print(classification_report(y_test, y_pred)) #and support\n",
        "# Confusion Matrix\n",
        "from sklearn.metrics import confusion_matrix\n",
        "print(confusion_matrix(y_test, y_pred))\n",
        "#Rsquared and coefficient and intercept of line\n",
        "lm = LinearRegression()\n",
        "lm.fit(X,y)\n",
        "lm.coef_\n",
        "lm.intercept_\n",
        "lm.score(X, y) #gives Rsquared value"
      ],
      "execution_count": null,
      "outputs": [
        {
          "output_type": "stream",
          "name": "stdout",
          "text": [
            "              precision    recall  f1-score   support\n",
            "\n",
            "           0       1.00      0.77      0.87        13\n",
            "           1       0.62      0.62      0.62        16\n",
            "           2       0.43      0.33      0.38         9\n",
            "           3       0.00      0.00      0.00         0\n",
            "\n",
            "    accuracy                           0.61        38\n",
            "   macro avg       0.51      0.43      0.47        38\n",
            "weighted avg       0.71      0.61      0.65        38\n",
            "\n",
            "[[10  0  0  3]\n",
            " [ 0 10  4  2]\n",
            " [ 0  6  3  0]\n",
            " [ 0  0  0  0]]\n"
          ]
        },
        {
          "output_type": "stream",
          "name": "stderr",
          "text": [
            "/usr/local/lib/python3.7/dist-packages/sklearn/metrics/_classification.py:1318: UndefinedMetricWarning: Recall and F-score are ill-defined and being set to 0.0 in labels with no true samples. Use `zero_division` parameter to control this behavior.\n",
            "  _warn_prf(average, modifier, msg_start, len(result))\n",
            "/usr/local/lib/python3.7/dist-packages/sklearn/metrics/_classification.py:1318: UndefinedMetricWarning: Recall and F-score are ill-defined and being set to 0.0 in labels with no true samples. Use `zero_division` parameter to control this behavior.\n",
            "  _warn_prf(average, modifier, msg_start, len(result))\n",
            "/usr/local/lib/python3.7/dist-packages/sklearn/metrics/_classification.py:1318: UndefinedMetricWarning: Recall and F-score are ill-defined and being set to 0.0 in labels with no true samples. Use `zero_division` parameter to control this behavior.\n",
            "  _warn_prf(average, modifier, msg_start, len(result))\n"
          ]
        },
        {
          "output_type": "execute_result",
          "data": {
            "text/plain": [
              "0.725963770390784"
            ]
          },
          "metadata": {},
          "execution_count": 95
        }
      ]
    },
    {
      "cell_type": "markdown",
      "metadata": {
        "id": "pgHEwFNdXPUt"
      },
      "source": [
        "#### Regression Metrics"
      ]
    },
    {
      "cell_type": "code",
      "metadata": {
        "id": "aS8uBbWFXPUt",
        "colab": {
          "base_uri": "https://localhost:8080/"
        },
        "outputId": "3bb357e8-1146-441e-d711-840541b29be9"
      },
      "source": [
        "# Mean Absolute Error\n",
        "from sklearn.metrics import mean_absolute_error\n",
        "#y_true = [3, -0.5, 2]\n",
        "mean_absolute_error(y_test, y_pred)\n",
        "# Mean Squared Error\n",
        "from sklearn.metrics import mean_squared_error\n",
        "mean_squared_error(y_test, y_pred)\n",
        "# R² Score\n",
        "from sklearn.metrics import r2_score\n",
        "r2_score(y_test, y_pred)"
      ],
      "execution_count": null,
      "outputs": [
        {
          "output_type": "execute_result",
          "data": {
            "text/plain": [
              "-1.0853658536585367"
            ]
          },
          "metadata": {},
          "execution_count": 96
        }
      ]
    },
    {
      "cell_type": "markdown",
      "metadata": {
        "id": "sRYYiLOxXPUu"
      },
      "source": [
        "#### Clustering Metrics"
      ]
    },
    {
      "cell_type": "code",
      "metadata": {
        "id": "atshjKSWXPUu",
        "colab": {
          "base_uri": "https://localhost:8080/"
        },
        "outputId": "9cc027e0-5b62-42db-a1f5-185a81d98b86"
      },
      "source": [
        "# Adjusted Rand Index\n",
        "from sklearn.metrics import adjusted_rand_score\n",
        "adjusted_rand_score(y_test, y_pred)\n",
        "# Homogeneity\n",
        "from sklearn.metrics import homogeneity_score\n",
        "homogeneity_score(y_test, y_pred)\n",
        "# V-measure\n",
        "from sklearn.metrics import v_measure_score\n",
        "v_measure_score(y_test, y_pred) "
      ],
      "execution_count": null,
      "outputs": [
        {
          "output_type": "execute_result",
          "data": {
            "text/plain": [
              "0.4897037543055145"
            ]
          },
          "metadata": {},
          "execution_count": 97
        }
      ]
    },
    {
      "cell_type": "markdown",
      "metadata": {
        "id": "lxLLcRZFXPUu"
      },
      "source": [
        "#### Cross-Validation"
      ]
    },
    {
      "cell_type": "code",
      "metadata": {
        "id": "y4uWuS44XPUu",
        "colab": {
          "base_uri": "https://localhost:8080/"
        },
        "outputId": "51c1b82f-1392-4310-e167-492261048451"
      },
      "source": [
        "from sklearn.model_selection import cross_val_score\n",
        "print(cross_val_score(knn, X_train, y_train, cv=4))\n",
        "print(cross_val_score(lr, X, y, cv=2))"
      ],
      "execution_count": null,
      "outputs": [
        {
          "output_type": "stream",
          "name": "stdout",
          "text": [
            "[0.75       0.78571429 0.82142857 0.78571429]\n",
            "[-4.31567384 -1.89773191]\n"
          ]
        },
        {
          "output_type": "stream",
          "name": "stderr",
          "text": [
            "/usr/local/lib/python3.7/dist-packages/sklearn/linear_model/_base.py:145: FutureWarning: 'normalize' was deprecated in version 1.0 and will be removed in 1.2.\n",
            "If you wish to scale the data, use Pipeline with a StandardScaler in a preprocessing stage. To reproduce the previous behavior:\n",
            "\n",
            "from sklearn.pipeline import make_pipeline\n",
            "\n",
            "model = make_pipeline(StandardScaler(with_mean=False), LinearRegression())\n",
            "\n",
            "If you wish to pass a sample_weight parameter, you need to pass it as a fit parameter to each step of the pipeline as follows:\n",
            "\n",
            "kwargs = {s[0] + '__sample_weight': sample_weight for s in model.steps}\n",
            "model.fit(X, y, **kwargs)\n",
            "\n",
            "\n",
            "  FutureWarning,\n",
            "/usr/local/lib/python3.7/dist-packages/sklearn/linear_model/_base.py:145: FutureWarning: 'normalize' was deprecated in version 1.0 and will be removed in 1.2.\n",
            "If you wish to scale the data, use Pipeline with a StandardScaler in a preprocessing stage. To reproduce the previous behavior:\n",
            "\n",
            "from sklearn.pipeline import make_pipeline\n",
            "\n",
            "model = make_pipeline(StandardScaler(with_mean=False), LinearRegression())\n",
            "\n",
            "If you wish to pass a sample_weight parameter, you need to pass it as a fit parameter to each step of the pipeline as follows:\n",
            "\n",
            "kwargs = {s[0] + '__sample_weight': sample_weight for s in model.steps}\n",
            "model.fit(X, y, **kwargs)\n",
            "\n",
            "\n",
            "  FutureWarning,\n"
          ]
        }
      ]
    },
    {
      "cell_type": "markdown",
      "metadata": {
        "id": "COzbNIDUXPUu"
      },
      "source": [
        "## Tune Your Model"
      ]
    },
    {
      "cell_type": "markdown",
      "metadata": {
        "id": "6dizUqu_XPUu"
      },
      "source": [
        "#### Grid search"
      ]
    },
    {
      "cell_type": "code",
      "source": [
        "from sklearn import svm, datasets\n",
        "from sklearn.model_selection import GridSearchCV\n",
        "iris = datasets.load_iris()\n",
        "parameters = {'kernel':('linear', 'rbf'), 'C':[1, 10]}\n",
        "svc = svm.SVC()\n",
        "clf = GridSearchCV(svc, parameters)\n",
        "clf.fit(iris.data, iris.target)\n",
        "GridSearchCV(estimator=SVC(),\n",
        "             param_grid={'C': [1, 10], 'kernel': ('linear', 'rbf')})\n",
        "sorted(clf.cv_results_.keys())"
      ],
      "metadata": {
        "colab": {
          "base_uri": "https://localhost:8080/"
        },
        "id": "0m5BZfHC4wqm",
        "outputId": "e499fdc0-05c1-4443-fa48-a1a814a531d6"
      },
      "execution_count": null,
      "outputs": [
        {
          "output_type": "execute_result",
          "data": {
            "text/plain": [
              "['mean_fit_time',\n",
              " 'mean_score_time',\n",
              " 'mean_test_score',\n",
              " 'param_C',\n",
              " 'param_kernel',\n",
              " 'params',\n",
              " 'rank_test_score',\n",
              " 'split0_test_score',\n",
              " 'split1_test_score',\n",
              " 'split2_test_score',\n",
              " 'split3_test_score',\n",
              " 'split4_test_score',\n",
              " 'std_fit_time',\n",
              " 'std_score_time',\n",
              " 'std_test_score']"
            ]
          },
          "metadata": {},
          "execution_count": 99
        }
      ]
    },
    {
      "cell_type": "markdown",
      "metadata": {
        "id": "FAdMZfgsXPUv"
      },
      "source": [
        "#### Randomized Parameter Optimization"
      ]
    },
    {
      "cell_type": "code",
      "metadata": {
        "id": "qmTU_hgOXPUv",
        "colab": {
          "base_uri": "https://localhost:8080/"
        },
        "outputId": "7180be22-df77-417e-c98f-b5b764ecbdc9"
      },
      "source": [
        "from sklearn.model_selection import RandomizedSearchCV\n",
        "params = {\"n_neighbors\": range(1,5), \"weights\": [\"uniform\", \"distance\"]}\n",
        "rsearch = RandomizedSearchCV(estimator=knn,\n",
        " param_distributions=params,\n",
        " cv=4,\n",
        " n_iter=8,\n",
        " random_state=5)\n",
        "rsearch.fit(X_train, y_train)\n",
        "print(rsearch.best_score_)"
      ],
      "execution_count": null,
      "outputs": [
        {
          "output_type": "stream",
          "name": "stdout",
          "text": [
            "0.7589285714285714\n"
          ]
        }
      ]
    },
    {
      "cell_type": "markdown",
      "metadata": {
        "id": "3tA6YpSQXPUv"
      },
      "source": [
        "## ML Examples"
      ]
    },
    {
      "cell_type": "code",
      "metadata": {
        "id": "IfGCC94yXPUv"
      },
      "source": [
        "from IPython.display import Image\n",
        "#Image(\"Ref_Image_ML options.png\")"
      ],
      "execution_count": null,
      "outputs": []
    },
    {
      "cell_type": "markdown",
      "metadata": {
        "id": "XdeCHhN0XPUv"
      },
      "source": [
        "### KNN - Multiple K tested and graphed"
      ]
    },
    {
      "cell_type": "code",
      "metadata": {
        "id": "5n74K4xAXPUw",
        "colab": {
          "base_uri": "https://localhost:8080/",
          "height": 297
        },
        "outputId": "f043cd54-4210-4ad9-b346-f0d1aef45eb9"
      },
      "source": [
        "from sklearn.model_selection import train_test_split\n",
        "from sklearn.neighbors import KNeighborsClassifier\n",
        "from sklearn import metrics\n",
        "import numpy as np\n",
        "import matplotlib.pyplot as plt\n",
        "Ks = 10\n",
        "mean_acc = np.zeros((Ks-1))\n",
        "std_acc = np.zeros((Ks-1))\n",
        "ConfustionMx = [];\n",
        "for n in range(1,Ks):\n",
        "    \n",
        "    #Train Model and Predict  \n",
        "    neigh = KNeighborsClassifier(n_neighbors = n).fit(X_train,y_train)\n",
        "    yhat=neigh.predict(X_test)\n",
        "    mean_acc[n-1] = metrics.accuracy_score(y_test, yhat)\n",
        "\n",
        "    \n",
        "    std_acc[n-1]=np.std(yhat==y_test)/np.sqrt(yhat.shape[0])\n",
        "\n",
        "plt.plot(range(1,Ks),mean_acc,'g')\n",
        "plt.fill_between(range(1,Ks),mean_acc - 1 * std_acc,mean_acc + 1 * std_acc, alpha=0.10)\n",
        "plt.legend(('Accuracy ', '+/- 3xstd'))\n",
        "plt.ylabel('Accuracy ')\n",
        "plt.xlabel('Number of Neighbours (K)')\n",
        "plt.tight_layout()\n",
        "plt.show()"
      ],
      "execution_count": null,
      "outputs": [
        {
          "output_type": "display_data",
          "data": {
            "text/plain": [
              "<Figure size 432x288 with 1 Axes>"
            ],
            "image/png": "[encoded data removed]"
          },
          "metadata": {
            "needs_background": "light"
          }
        }
      ]
    },
    {
      "cell_type": "markdown",
      "metadata": {
        "id": "M8bqd26nXPUw"
      },
      "source": [
        "### Decision tree classifier"
      ]
    },
    {
      "cell_type": "code",
      "metadata": {
        "id": "mIb7W506XPUw",
        "colab": {
          "base_uri": "https://localhost:8080/"
        },
        "outputId": "da738ab2-f85b-4939-e819-79b8418a9266"
      },
      "source": [
        "from sklearn import tree                                                        \n",
        "clf = tree.DecisionTreeClassifier()                                             \n",
        "\n",
        "#[height, hair-length, voice-pitch]                                             \n",
        "X = [ [180, 15,0],                                                              \n",
        "      [167, 42,1],                                                              \n",
        "      [136, 35,1],                                                              \n",
        "      [174, 15,0],                                                              \n",
        "      [141, 28,1]]                                                              \n",
        "\n",
        "Y = ['man', 'woman', 'woman', 'man', 'woman']                                   \n",
        "\n",
        "clf = clf.fit(X, Y)                                                             \n",
        "prediction = clf.predict([[133, 37,1]])                                         \n",
        "print(prediction)   "
      ],
      "execution_count": null,
      "outputs": [
        {
          "output_type": "stream",
          "name": "stdout",
          "text": [
            "['woman']\n"
          ]
        }
      ]
    },
    {
      "cell_type": "code",
      "source": [
        "from sklearn.tree import DecisionTreeClassifier\n",
        "clf = DecisionTreeClassifier().fit(X_train, y_train)\n",
        "print('Accuracy of Decision Tree classifier on training set: {:.2f}'\n",
        "     .format(clf.score(X_train, y_train)))\n",
        "print('Accuracy of Decision Tree classifier on test set: {:.2f}'\n",
        "     .format(clf.score(X_test, y_test)))"
      ],
      "metadata": {
        "colab": {
          "base_uri": "https://localhost:8080/"
        },
        "id": "i4nrp-itFemN",
        "outputId": "0bc7a8fa-ecd7-4b1e-a19c-8c477dd70cea"
      },
      "execution_count": null,
      "outputs": [
        {
          "output_type": "stream",
          "name": "stdout",
          "text": [
            "Accuracy of Decision Tree classifier on training set: 0.94\n",
            "Accuracy of Decision Tree classifier on test set: 0.66\n"
          ]
        }
      ]
    },
    {
      "cell_type": "code",
      "source": [
        "%matplotlib inline\n",
        "import pandas as pd\n",
        "import matplotlib.pyplot as plt\n",
        "fruits = pd.read_table(\"https://raw.githubusercontent.com/susanli2016/Machine-Learning-with-Python/master/fruit_data_with_colors.txt\")#'fruit_data_with_colors.txt')\n",
        "fruits.head()\n",
        "\n",
        "from pandas.plotting import scatter_matrix\n",
        "from matplotlib import cm\n",
        "feature_names = ['mass', 'width', 'height', 'color_score']\n",
        "X = fruits[feature_names]\n",
        "y = fruits['fruit_label']\n",
        "\n",
        "from sklearn.model_selection import train_test_split\n",
        "X_train, X_test, y_train, y_test = train_test_split(X, y, random_state=0)\n",
        "from sklearn.preprocessing import MinMaxScaler\n",
        "scaler = MinMaxScaler()\n",
        "X_train = scaler.fit_transform(X_train)\n",
        "X_test = scaler.transform(X_test)\n",
        "\n",
        "import matplotlib.cm as cm\n",
        "from matplotlib.colors import ListedColormap, BoundaryNorm\n",
        "import matplotlib.patches as mpatches\n",
        "import sklearn.neighbors as neighbors\n",
        "import numpy as np\n",
        "\n",
        "X = fruits[feature_names]\n",
        "y = fruits['fruit_label']\n",
        "X_train, X_test, y_train, y_test = train_test_split(X, y, random_state=0)\n",
        "def plot_fruit_knn(X, y, n_neighbors, weights):\n",
        "    X_mat = X[['height', 'width']]#.values()#as_matrix()\n",
        "    y_mat = y#.as_matrix()\n",
        "    # Create color maps\n",
        "    cmap_light = ListedColormap(['#FFAAAA', '#AAFFAA', '#AAAAFF','#AFAFAF'])\n",
        "    cmap_bold  = ListedColormap(['#FF0000', '#00FF00', '#0000FF','#AFAFAF'])\n",
        "    clf = neighbors.KNeighborsClassifier(n_neighbors, weights=weights)\n",
        "    clf.fit(X_mat, y_mat)\n",
        "    # Plot the decision boundary by assigning a color in the color map\n",
        "    # to each mesh point.\n",
        "    \n",
        "    mesh_step_size = .01  # step size in the mesh\n",
        "    plot_symbol_size = 50\n",
        "    \n",
        "    x_min, x_max = X_mat.iloc[:, 0].min() - 1, X_mat.iloc[:, 0].max() + 1\n",
        "    y_min, y_max = X_mat.iloc[:, 1].min() - 1, X_mat.iloc[:, 1].max() + 1\n",
        "    xx, yy = np.meshgrid(np.arange(x_min, x_max, mesh_step_size),\n",
        "                    np.arange(y_min, y_max, mesh_step_size))\n",
        "    Z = clf.predict(np.c_[xx.ravel(), yy.ravel()])\n",
        "    # Put the result into a color plot\n",
        "    Z = Z.reshape(xx.shape)\n",
        "    plt.figure()\n",
        "    plt.pcolormesh(xx, yy, Z, cmap=cmap_light)\n",
        "    # Plot training points\n",
        "    plt.scatter(X_mat.iloc[:, 0], X_mat.iloc[:, 1], s=plot_symbol_size, c=y, cmap=cmap_bold, edgecolor = 'black')\n",
        "    plt.xlim(xx.min(), xx.max())\n",
        "    plt.ylim(yy.min(), yy.max())\n",
        "    patch0 = mpatches.Patch(color='#FF0000', label='apple')\n",
        "    patch1 = mpatches.Patch(color='#00FF00', label='mandarin')\n",
        "    patch2 = mpatches.Patch(color='#0000FF', label='orange')\n",
        "    patch3 = mpatches.Patch(color='#AFAFAF', label='lemon')\n",
        "    plt.legend(handles=[patch0, patch1, patch2, patch3])\n",
        "    plt.xlabel('height (cm)')\n",
        "    plt.ylabel('width (cm)')\n",
        "    plt.title(\"4-Class classification (k = %i, weights = '%s')\"\n",
        "               % (n_neighbors, weights))    \n",
        "    plt.show()\n",
        "plot_fruit_knn(X_train, y_train, 5, 'uniform')"
      ],
      "metadata": {
        "colab": {
          "base_uri": "https://localhost:8080/",
          "height": 350
        },
        "id": "O0SHXmzWFije",
        "outputId": "dd112dc4-deab-4516-edcf-54892d045472"
      },
      "execution_count": null,
      "outputs": [
        {
          "output_type": "stream",
          "name": "stderr",
          "text": [
            "/usr/local/lib/python3.7/dist-packages/sklearn/base.py:451: UserWarning: X does not have valid feature names, but KNeighborsClassifier was fitted with feature names\n",
            "  \"X does not have valid feature names, but\"\n"
          ]
        },
        {
          "output_type": "display_data",
          "data": {
            "text/plain": [
              "<Figure size 432x288 with 1 Axes>"
            ],
            "image/png": "[encoded data removed]"
          },
          "metadata": {
            "needs_background": "light"
          }
        }
      ]
    },
    {
      "cell_type": "markdown",
      "metadata": {
        "id": "jSyHgV2zXPUw"
      },
      "source": [
        "## Basic Stats"
      ]
    },
    {
      "cell_type": "code",
      "metadata": {
        "id": "d340HihwXPUw"
      },
      "source": [
        "from scipy import stats\n",
        "#Pearson coefficient p value\n",
        "#pearson_coef, p_value = stats.pearsonr(\"group1 data\", \"group2 data\")\n",
        "#print(\"The Pearson Correlation Coefficient is\", pearson_coef, \" with a P-value of P =\", p_value)  \n",
        "# ANOVA\n",
        "#f_val, p_val = stats.f_oneway(\"group1 data\", \"group2 data\", \"group3 data\")  \n",
        "#print( \"ANOVA results: F=\", f_val, \", P =\", p_val)  \n"
      ],
      "execution_count": null,
      "outputs": []
    },
    {
      "cell_type": "markdown",
      "metadata": {
        "id": "EqQgXWC9XPUw"
      },
      "source": [
        "### Linear regression on polynomialfeatures with R^2"
      ]
    },
    {
      "cell_type": "code",
      "metadata": {
        "id": "A7nZy-V4XPUw",
        "colab": {
          "base_uri": "https://localhost:8080/"
        },
        "outputId": "37e18a3d-0bd1-495c-cbe1-31d70edf070f"
      },
      "source": [
        "from sklearn.pipeline import Pipeline\n",
        "Input=[('scale',StandardScaler()),('polynomial', PolynomialFeatures(include_bias=False)),('model',LinearRegression())]\n",
        "pipe=Pipeline(Input)\n",
        "pipe.fit(X_train,y_train)\n",
        "pipe.score(X_test,y_test) #gives Rsquared score for fit of features to predictor"
      ],
      "execution_count": null,
      "outputs": [
        {
          "output_type": "execute_result",
          "data": {
            "text/plain": [
              "0.07709698650266505"
            ]
          },
          "metadata": {},
          "execution_count": 107
        }
      ]
    },
    {
      "cell_type": "markdown",
      "metadata": {
        "id": "pKBcpbXjXPUx"
      },
      "source": [
        "### Simple Ridge regression"
      ]
    },
    {
      "cell_type": "code",
      "metadata": {
        "id": "4f_EKeDlXPUx",
        "colab": {
          "base_uri": "https://localhost:8080/"
        },
        "outputId": "9133cd8c-3e07-4533-a003-186b57fa83ce"
      },
      "source": [
        "from sklearn.linear_model import Ridge\n",
        "from sklearn.preprocessing import PolynomialFeatures\n",
        "RigeModel = Ridge(alpha=0.1) \n",
        "RigeModel.fit(X_train, y_train)\n",
        "RigeModel.score(X_test, y_test)\n",
        "\n",
        "#Polynomial below:\n",
        "pr=PolynomialFeatures(degree=2)\n",
        "transform_train1=pr.fit_transform(X_train, y_train)\n",
        "transform_test1=pr.fit_transform(X_test, y_test)\n",
        "RigeModel1 = Ridge(alpha=0.1) \n",
        "RigeModel1.fit(X_train, y_train)\n",
        "RigeModel1.score(X_test, y_test)"
      ],
      "execution_count": null,
      "outputs": [
        {
          "output_type": "execute_result",
          "data": {
            "text/plain": [
              "0.20268999609688032"
            ]
          },
          "metadata": {},
          "execution_count": 108
        }
      ]
    },
    {
      "cell_type": "markdown",
      "metadata": {
        "id": "Cr4e56IBR5AN"
      },
      "source": [
        "# Multiple visualisation and classifiers\n",
        "##Original reference:\n",
        "- https://towardsdatascience.com/solving-a-simple-classification-problem-with-python-fruits-lovers-edition-d20ab6b071d2"
      ]
    },
    {
      "cell_type": "code",
      "execution_count": null,
      "metadata": {
        "colab": {
          "base_uri": "https://localhost:8080/",
          "height": 206
        },
        "id": "I00vpaBYR5AP",
        "outputId": "0203bf26-225b-403d-db08-17b7badcfc1e"
      },
      "outputs": [
        {
          "output_type": "execute_result",
          "data": {
            "text/plain": [
              "   fruit_label fruit_name fruit_subtype  mass  width  height  color_score\n",
              "0            1      apple  granny_smith   192    8.4     7.3         0.55\n",
              "1            1      apple  granny_smith   180    8.0     6.8         0.59\n",
              "2            1      apple  granny_smith   176    7.4     7.2         0.60\n",
              "3            2   mandarin      mandarin    86    6.2     4.7         0.80\n",
              "4            2   mandarin      mandarin    84    6.0     4.6         0.79"
            ],
            "text/html": [
              "\n",
              "  <div id=\"df-5c7455b9-f6ad-478c-b0b4-491432a6e708\">\n",
              "    <div class=\"colab-df-container\">\n",
              "      <div>\n",
              "<style scoped>\n",
              "    .dataframe tbody tr th:only-of-type {\n",
              "        vertical-align: middle;\n",
              "    }\n",
              "\n",
              "    .dataframe tbody tr th {\n",
              "        vertical-align: top;\n",
              "    }\n",
              "\n",
              "    .dataframe thead th {\n",
              "        text-align: right;\n",
              "    }\n",
              "</style>\n",
              "<table border=\"1\" class=\"dataframe\">\n",
              "  <thead>\n",
              "    <tr style=\"text-align: right;\">\n",
              "      <th></th>\n",
              "      <th>fruit_label</th>\n",
              "      <th>fruit_name</th>\n",
              "      <th>fruit_subtype</th>\n",
              "      <th>mass</th>\n",
              "      <th>width</th>\n",
              "      <th>height</th>\n",
              "      <th>color_score</th>\n",
              "    </tr>\n",
              "  </thead>\n",
              "  <tbody>\n",
              "    <tr>\n",
              "      <th>0</th>\n",
              "      <td>1</td>\n",
              "      <td>apple</td>\n",
              "      <td>granny_smith</td>\n",
              "      <td>192</td>\n",
              "      <td>8.4</td>\n",
              "      <td>7.3</td>\n",
              "      <td>0.55</td>\n",
              "    </tr>\n",
              "    <tr>\n",
              "      <th>1</th>\n",
              "      <td>1</td>\n",
              "      <td>apple</td>\n",
              "      <td>granny_smith</td>\n",
              "      <td>180</td>\n",
              "      <td>8.0</td>\n",
              "      <td>6.8</td>\n",
              "      <td>0.59</td>\n",
              "    </tr>\n",
              "    <tr>\n",
              "      <th>2</th>\n",
              "      <td>1</td>\n",
              "      <td>apple</td>\n",
              "      <td>granny_smith</td>\n",
              "      <td>176</td>\n",
              "      <td>7.4</td>\n",
              "      <td>7.2</td>\n",
              "      <td>0.60</td>\n",
              "    </tr>\n",
              "    <tr>\n",
              "      <th>3</th>\n",
              "      <td>2</td>\n",
              "      <td>mandarin</td>\n",
              "      <td>mandarin</td>\n",
              "      <td>86</td>\n",
              "      <td>6.2</td>\n",
              "      <td>4.7</td>\n",
              "      <td>0.80</td>\n",
              "    </tr>\n",
              "    <tr>\n",
              "      <th>4</th>\n",
              "      <td>2</td>\n",
              "      <td>mandarin</td>\n",
              "      <td>mandarin</td>\n",
              "      <td>84</td>\n",
              "      <td>6.0</td>\n",
              "      <td>4.6</td>\n",
              "      <td>0.79</td>\n",
              "    </tr>\n",
              "  </tbody>\n",
              "</table>\n",
              "</div>\n",
              "      <button class=\"colab-df-convert\" onclick=\"convertToInteractive('df-5c7455b9-f6ad-478c-b0b4-491432a6e708')\"\n",
              "              title=\"Convert this dataframe to an interactive table.\"\n",
              "              style=\"display:none;\">\n",
              "        \n",
              "  <svg xmlns=\"http://www.w3.org/2000/svg\" height=\"24px\"viewBox=\"0 0 24 24\"\n",
              "       width=\"24px\">\n",
              "    <path d=\"M0 0h24v24H0V0z\" fill=\"none\"/>\n",
              "    <path d=\"M18.56 5.44l.94 2.06.94-2.06 2.06-.94-2.06-.94-.94-2.06-.94 2.06-2.06.94zm-11 1L8.5 8.5l.94-2.06 2.06-.94-2.06-.94L8.5 2.5l-.94 2.06-2.06.94zm10 10l.94 2.06.94-2.06 2.06-.94-2.06-.94-.94-2.06-.94 2.06-2.06.94z\"/><path d=\"M17.41 7.96l-1.37-1.37c-.4-.4-.92-.59-1.43-.59-.52 0-1.04.2-1.43.59L10.3 9.45l-7.72 7.72c-.78.78-.78 2.05 0 2.83L4 21.41c.39.39.9.59 1.41.59.51 0 1.02-.2 1.41-.59l7.78-7.78 2.81-2.81c.8-.78.8-2.07 0-2.86zM5.41 20L4 18.59l7.72-7.72 1.47 1.35L5.41 20z\"/>\n",
              "  </svg>\n",
              "      </button>\n",
              "      \n",
              "  <style>\n",
              "    .colab-df-container {\n",
              "      display:flex;\n",
              "      flex-wrap:wrap;\n",
              "      gap: 12px;\n",
              "    }\n",
              "\n",
              "    .colab-df-convert {\n",
              "      background-color: #E8F0FE;\n",
              "      border: none;\n",
              "      border-radius: 50%;\n",
              "      cursor: pointer;\n",
              "      display: none;\n",
              "      fill: #1967D2;\n",
              "      height: 32px;\n",
              "      padding: 0 0 0 0;\n",
              "      width: 32px;\n",
              "    }\n",
              "\n",
              "    .colab-df-convert:hover {\n",
              "      background-color: #E2EBFA;\n",
              "      box-shadow: 0px 1px 2px rgba(60, 64, 67, 0.3), 0px 1px 3px 1px rgba(60, 64, 67, 0.15);\n",
              "      fill: #174EA6;\n",
              "    }\n",
              "\n",
              "    [theme=dark] .colab-df-convert {\n",
              "      background-color: #3B4455;\n",
              "      fill: #D2E3FC;\n",
              "    }\n",
              "\n",
              "    [theme=dark] .colab-df-convert:hover {\n",
              "      background-color: #434B5C;\n",
              "      box-shadow: 0px 1px 3px 1px rgba(0, 0, 0, 0.15);\n",
              "      filter: drop-shadow(0px 1px 2px rgba(0, 0, 0, 0.3));\n",
              "      fill: #FFFFFF;\n",
              "    }\n",
              "  </style>\n",
              "\n",
              "      <script>\n",
              "        const buttonEl =\n",
              "          document.querySelector('#df-5c7455b9-f6ad-478c-b0b4-491432a6e708 button.colab-df-convert');\n",
              "        buttonEl.style.display =\n",
              "          google.colab.kernel.accessAllowed ? 'block' : 'none';\n",
              "\n",
              "        async function convertToInteractive(key) {\n",
              "          const element = document.querySelector('#df-5c7455b9-f6ad-478c-b0b4-491432a6e708');\n",
              "          const dataTable =\n",
              "            await google.colab.kernel.invokeFunction('convertToInteractive',\n",
              "                                                     [key], {});\n",
              "          if (!dataTable) return;\n",
              "\n",
              "          const docLinkHtml = 'Like what you see? Visit the ' +\n",
              "            '<a target=\"_blank\" href=https://colab.research.google.com/notebooks/data_table.ipynb>data table notebook</a>'\n",
              "            + ' to learn more about interactive tables.';\n",
              "          element.innerHTML = '';\n",
              "          dataTable['output_type'] = 'display_data';\n",
              "          await google.colab.output.renderOutput(dataTable, element);\n",
              "          const docLink = document.createElement('div');\n",
              "          docLink.innerHTML = docLinkHtml;\n",
              "          element.appendChild(docLink);\n",
              "        }\n",
              "      </script>\n",
              "    </div>\n",
              "  </div>\n",
              "  "
            ]
          },
          "metadata": {},
          "execution_count": 23
        }
      ],
      "source": [
        "%matplotlib inline\n",
        "import pandas as pd\n",
        "import matplotlib.pyplot as plt\n",
        "fruits = pd.read_table(\"https://raw.githubusercontent.com/susanli2016/Machine-Learning-with-Python/master/fruit_data_with_colors.txt\")#'fruit_data_with_colors.txt')\n",
        "fruits.head()"
      ]
    },
    {
      "cell_type": "code",
      "execution_count": null,
      "metadata": {
        "colab": {
          "base_uri": "https://localhost:8080/"
        },
        "id": "aFND94wLR5AR",
        "outputId": "89d8d8b1-a347-4d94-e667-00080e9b42be"
      },
      "outputs": [
        {
          "output_type": "stream",
          "name": "stdout",
          "text": [
            "(59, 7)\n",
            "['apple' 'mandarin' 'orange' 'lemon']\n",
            "fruit_name\n",
            "apple       19\n",
            "lemon       16\n",
            "mandarin     5\n",
            "orange      19\n",
            "dtype: int64\n"
          ]
        }
      ],
      "source": [
        "print(fruits.shape)\n",
        "print(fruits['fruit_name'].unique())\n",
        "print(fruits.groupby('fruit_name').size())"
      ]
    },
    {
      "cell_type": "code",
      "execution_count": null,
      "metadata": {
        "colab": {
          "base_uri": "https://localhost:8080/",
          "height": 335
        },
        "id": "OqpgyLu7R5AS",
        "outputId": "6bd5247c-556e-45aa-a9c7-17e20ba5d781"
      },
      "outputs": [
        {
          "output_type": "stream",
          "name": "stderr",
          "text": [
            "/usr/local/lib/python3.7/dist-packages/seaborn/_decorators.py:43: FutureWarning: Pass the following variable as a keyword arg: x. From version 0.12, the only valid positional argument will be `data`, and passing other arguments without an explicit keyword will result in an error or misinterpretation.\n",
            "  FutureWarning\n"
          ]
        },
        {
          "output_type": "display_data",
          "data": {
            "text/plain": [
              "<Figure size 432x288 with 1 Axes>"
            ],
            "image/png": "[encoded data removed]"
          },
          "metadata": {
            "needs_background": "light"
          }
        }
      ],
      "source": [
        "import seaborn as sns\n",
        "sns.countplot(fruits['fruit_name'],label=\"Count\")\n",
        "plt.show()"
      ]
    },
    {
      "cell_type": "code",
      "execution_count": null,
      "metadata": {
        "colab": {
          "base_uri": "https://localhost:8080/",
          "height": 603
        },
        "id": "6ynhHPR8R5AT",
        "outputId": "7119ef7d-da7a-4a87-bf71-44910c974367"
      },
      "outputs": [
        {
          "output_type": "display_data",
          "data": {
            "text/plain": [
              "<Figure size 648x648 with 4 Axes>"
            ],
            "image/png": "[encoded data removed]"
          },
          "metadata": {
            "needs_background": "light"
          }
        }
      ],
      "source": [
        "fruits.drop('fruit_label', axis=1).plot(kind='box', subplots=True, layout=(2,2), sharex=False, sharey=False, figsize=(9,9), \n",
        "                                        title='Box Plot for each input variable')\n",
        "plt.savefig('fruits_box')\n",
        "plt.show()"
      ]
    },
    {
      "cell_type": "code",
      "execution_count": null,
      "metadata": {
        "colab": {
          "base_uri": "https://localhost:8080/",
          "height": 602
        },
        "id": "tAczHD2JR5AT",
        "outputId": "4f873c1c-1e20-4034-8157-54f7dda04323"
      },
      "outputs": [
        {
          "output_type": "display_data",
          "data": {
            "text/plain": [
              "<Figure size 648x648 with 4 Axes>"
            ],
            "image/png": "[encoded data removed]"
          },
          "metadata": {
            "needs_background": "light"
          }
        }
      ],
      "source": [
        "import pylab as pl\n",
        "fruits.drop('fruit_label' ,axis=1).hist(bins=30, figsize=(9,9))\n",
        "pl.suptitle(\"Histogram for each numeric input variable\")\n",
        "plt.savefig('fruits_hist')\n",
        "plt.show()"
      ]
    },
    {
      "cell_type": "code",
      "execution_count": null,
      "metadata": {
        "id": "zGQ-zC-cR5AU"
      },
      "outputs": [],
      "source": [
        "#from pandas.tools.plotting import scatter_matrix\n",
        "from pandas.plotting import scatter_matrix\n",
        "from matplotlib import cm\n",
        "feature_names = ['mass', 'width', 'height', 'color_score']\n",
        "X = fruits[feature_names]\n",
        "y = fruits['fruit_label']"
      ]
    },
    {
      "cell_type": "code",
      "execution_count": null,
      "metadata": {
        "id": "hwVU_H8GR5AV"
      },
      "outputs": [],
      "source": [
        "from sklearn.model_selection import train_test_split\n",
        "X_train, X_test, y_train, y_test = train_test_split(X, y, random_state=0)\n",
        "from sklearn.preprocessing import MinMaxScaler\n",
        "scaler = MinMaxScaler()\n",
        "X_train = scaler.fit_transform(X_train)\n",
        "X_test = scaler.transform(X_test)"
      ]
    },
    {
      "cell_type": "code",
      "execution_count": null,
      "metadata": {
        "colab": {
          "base_uri": "https://localhost:8080/"
        },
        "id": "88hk8bfiR5AW",
        "outputId": "fac4be93-94c3-4b01-8df1-094e7a0a8a8e"
      },
      "outputs": [
        {
          "output_type": "stream",
          "name": "stdout",
          "text": [
            "Accuracy of Logistic regression classifier on training set: 0.75\n",
            "Accuracy of Logistic regression classifier on test set: 0.47\n"
          ]
        }
      ],
      "source": [
        "from sklearn.linear_model import LogisticRegression\n",
        "logreg = LogisticRegression()\n",
        "logreg.fit(X_train, y_train)\n",
        "print('Accuracy of Logistic regression classifier on training set: {:.2f}'\n",
        "     .format(logreg.score(X_train, y_train)))\n",
        "print('Accuracy of Logistic regression classifier on test set: {:.2f}'\n",
        "     .format(logreg.score(X_test, y_test)))"
      ]
    },
    {
      "cell_type": "code",
      "execution_count": null,
      "metadata": {
        "colab": {
          "base_uri": "https://localhost:8080/"
        },
        "id": "YNxGg28RR5AX",
        "outputId": "401112bf-c1a8-49fa-f976-ef268b2e48ea"
      },
      "outputs": [
        {
          "output_type": "stream",
          "name": "stdout",
          "text": [
            "Accuracy of Decision Tree classifier on training set: 1.00\n",
            "Accuracy of Decision Tree classifier on test set: 0.67\n"
          ]
        }
      ],
      "source": [
        "from sklearn.tree import DecisionTreeClassifier\n",
        "clf = DecisionTreeClassifier().fit(X_train, y_train)\n",
        "print('Accuracy of Decision Tree classifier on training set: {:.2f}'\n",
        "     .format(clf.score(X_train, y_train)))\n",
        "print('Accuracy of Decision Tree classifier on test set: {:.2f}'\n",
        "     .format(clf.score(X_test, y_test)))"
      ]
    },
    {
      "cell_type": "code",
      "execution_count": null,
      "metadata": {
        "colab": {
          "base_uri": "https://localhost:8080/"
        },
        "id": "eNk0v5NzR5AX",
        "outputId": "0fd28b64-0a02-447f-a450-78556806b321"
      },
      "outputs": [
        {
          "output_type": "stream",
          "name": "stdout",
          "text": [
            "Accuracy of K-NN classifier on training set: 0.95\n",
            "Accuracy of K-NN classifier on test set: 1.00\n"
          ]
        }
      ],
      "source": [
        "from sklearn.neighbors import KNeighborsClassifier\n",
        "knn = KNeighborsClassifier()\n",
        "knn.fit(X_train, y_train)\n",
        "print('Accuracy of K-NN classifier on training set: {:.2f}'\n",
        "     .format(knn.score(X_train, y_train)))\n",
        "print('Accuracy of K-NN classifier on test set: {:.2f}'\n",
        "     .format(knn.score(X_test, y_test)))"
      ]
    },
    {
      "cell_type": "code",
      "execution_count": null,
      "metadata": {
        "colab": {
          "base_uri": "https://localhost:8080/"
        },
        "id": "OCM_xiczR5AY",
        "outputId": "377cef3d-0aff-4136-f8fb-e1393ac8eaca"
      },
      "outputs": [
        {
          "output_type": "stream",
          "name": "stdout",
          "text": [
            "Accuracy of LDA classifier on training set: 0.86\n",
            "Accuracy of LDA classifier on test set: 0.67\n"
          ]
        }
      ],
      "source": [
        "from sklearn.discriminant_analysis import LinearDiscriminantAnalysis\n",
        "lda = LinearDiscriminantAnalysis()\n",
        "lda.fit(X_train, y_train)\n",
        "print('Accuracy of LDA classifier on training set: {:.2f}'\n",
        "     .format(lda.score(X_train, y_train)))\n",
        "print('Accuracy of LDA classifier on test set: {:.2f}'\n",
        "     .format(lda.score(X_test, y_test)))"
      ]
    },
    {
      "cell_type": "code",
      "execution_count": null,
      "metadata": {
        "colab": {
          "base_uri": "https://localhost:8080/"
        },
        "id": "zk3xUVV5R5AZ",
        "outputId": "f0681166-de13-449e-aef2-dd7dcb4bd163"
      },
      "outputs": [
        {
          "output_type": "stream",
          "name": "stdout",
          "text": [
            "Accuracy of GNB classifier on training set: 0.86\n",
            "Accuracy of GNB classifier on test set: 0.67\n"
          ]
        }
      ],
      "source": [
        "from sklearn.naive_bayes import GaussianNB\n",
        "gnb = GaussianNB()\n",
        "gnb.fit(X_train, y_train)\n",
        "print('Accuracy of GNB classifier on training set: {:.2f}'\n",
        "     .format(gnb.score(X_train, y_train)))\n",
        "print('Accuracy of GNB classifier on test set: {:.2f}'\n",
        "     .format(gnb.score(X_test, y_test)))"
      ]
    },
    {
      "cell_type": "code",
      "execution_count": null,
      "metadata": {
        "colab": {
          "base_uri": "https://localhost:8080/"
        },
        "id": "WGc73ILdR5Aa",
        "outputId": "2a6b9c4f-2639-41f5-ffd4-2ec58f53b903"
      },
      "outputs": [
        {
          "output_type": "stream",
          "name": "stdout",
          "text": [
            "Accuracy of SVM classifier on training set: 0.91\n",
            "Accuracy of SVM classifier on test set: 0.80\n"
          ]
        }
      ],
      "source": [
        "from sklearn.svm import SVC\n",
        "svm = SVC()\n",
        "svm.fit(X_train, y_train)\n",
        "print('Accuracy of SVM classifier on training set: {:.2f}'\n",
        "     .format(svm.score(X_train, y_train)))\n",
        "print('Accuracy of SVM classifier on test set: {:.2f}'\n",
        "     .format(svm.score(X_test, y_test)))"
      ]
    },
    {
      "cell_type": "code",
      "execution_count": null,
      "metadata": {
        "colab": {
          "base_uri": "https://localhost:8080/"
        },
        "id": "WMq1rBerR5Aa",
        "outputId": "45554692-0b73-4457-cb73-af2e1ad48442"
      },
      "outputs": [
        {
          "output_type": "stream",
          "name": "stdout",
          "text": [
            "[[4 0 0 0]\n",
            " [0 1 0 0]\n",
            " [0 0 8 0]\n",
            " [0 0 0 2]]\n",
            "              precision    recall  f1-score   support\n",
            "\n",
            "           1       1.00      1.00      1.00         4\n",
            "           2       1.00      1.00      1.00         1\n",
            "           3       1.00      1.00      1.00         8\n",
            "           4       1.00      1.00      1.00         2\n",
            "\n",
            "    accuracy                           1.00        15\n",
            "   macro avg       1.00      1.00      1.00        15\n",
            "weighted avg       1.00      1.00      1.00        15\n",
            "\n"
          ]
        }
      ],
      "source": [
        "from sklearn.metrics import classification_report\n",
        "from sklearn.metrics import confusion_matrix\n",
        "pred = knn.predict(X_test)\n",
        "print(confusion_matrix(y_test, pred))\n",
        "print(classification_report(y_test, pred))"
      ]
    },
    {
      "cell_type": "code",
      "execution_count": null,
      "metadata": {
        "colab": {
          "base_uri": "https://localhost:8080/",
          "height": 350
        },
        "id": "xfwuGuJkR5Ab",
        "outputId": "59534e44-d0a2-482b-b1fd-3f547de44fcc"
      },
      "outputs": [
        {
          "output_type": "stream",
          "name": "stderr",
          "text": [
            "/usr/local/lib/python3.7/dist-packages/sklearn/base.py:451: UserWarning: X does not have valid feature names, but KNeighborsClassifier was fitted with feature names\n",
            "  \"X does not have valid feature names, but\"\n"
          ]
        },
        {
          "output_type": "display_data",
          "data": {
            "text/plain": [
              "<Figure size 432x288 with 1 Axes>"
            ],
            "image/png": "[encoded data removed]"
          },
          "metadata": {
            "needs_background": "light"
          }
        }
      ],
      "source": [
        "import matplotlib.cm as cm\n",
        "from matplotlib.colors import ListedColormap, BoundaryNorm\n",
        "import matplotlib.patches as mpatches\n",
        "import sklearn.neighbors as neighbors\n",
        "import numpy as np\n",
        "\n",
        "X = fruits[feature_names]\n",
        "y = fruits['fruit_label']\n",
        "X_train, X_test, y_train, y_test = train_test_split(X, y, random_state=0)\n",
        "def plot_fruit_knn(X, y, n_neighbors, weights):\n",
        "    X_mat = X[['height', 'width']]#.values()#as_matrix()\n",
        "    y_mat = y#.as_matrix()\n",
        "    # Create color maps\n",
        "    cmap_light = ListedColormap(['#FFAAAA', '#AAFFAA', '#AAAAFF','#AFAFAF'])\n",
        "    cmap_bold  = ListedColormap(['#FF0000', '#00FF00', '#0000FF','#AFAFAF'])\n",
        "    clf = neighbors.KNeighborsClassifier(n_neighbors, weights=weights)\n",
        "    clf.fit(X_mat, y_mat)\n",
        "    # Plot the decision boundary by assigning a color in the color map\n",
        "    # to each mesh point.\n",
        "    \n",
        "    mesh_step_size = .01  # step size in the mesh\n",
        "    plot_symbol_size = 50\n",
        "    \n",
        "    x_min, x_max = X_mat.iloc[:, 0].min() - 1, X_mat.iloc[:, 0].max() + 1\n",
        "    y_min, y_max = X_mat.iloc[:, 1].min() - 1, X_mat.iloc[:, 1].max() + 1\n",
        "    xx, yy = np.meshgrid(np.arange(x_min, x_max, mesh_step_size),\n",
        "                    np.arange(y_min, y_max, mesh_step_size))\n",
        "    Z = clf.predict(np.c_[xx.ravel(), yy.ravel()])\n",
        "    # Put the result into a color plot\n",
        "    Z = Z.reshape(xx.shape)\n",
        "    plt.figure()\n",
        "    plt.pcolormesh(xx, yy, Z, cmap=cmap_light)\n",
        "    # Plot training points\n",
        "    plt.scatter(X_mat.iloc[:, 0], X_mat.iloc[:, 1], s=plot_symbol_size, c=y, cmap=cmap_bold, edgecolor = 'black')\n",
        "    plt.xlim(xx.min(), xx.max())\n",
        "    plt.ylim(yy.min(), yy.max())\n",
        "    patch0 = mpatches.Patch(color='#FF0000', label='apple')\n",
        "    patch1 = mpatches.Patch(color='#00FF00', label='mandarin')\n",
        "    patch2 = mpatches.Patch(color='#0000FF', label='orange')\n",
        "    patch3 = mpatches.Patch(color='#AFAFAF', label='lemon')\n",
        "    plt.legend(handles=[patch0, patch1, patch2, patch3])\n",
        "    plt.xlabel('height (cm)')\n",
        "    plt.ylabel('width (cm)')\n",
        "    plt.title(\"4-Class classification (k = %i, weights = '%s')\"\n",
        "               % (n_neighbors, weights))    \n",
        "    plt.show()\n",
        "plot_fruit_knn(X_train, y_train, 5, 'uniform')"
      ]
    },
    {
      "cell_type": "code",
      "execution_count": null,
      "metadata": {
        "colab": {
          "base_uri": "https://localhost:8080/"
        },
        "id": "DzjggRtoR5Ab",
        "outputId": "12f77cde-47a4-438f-9877-4de60ba34b1e"
      },
      "outputs": [
        {
          "output_type": "execute_result",
          "data": {
            "text/plain": [
              "([<matplotlib.axis.XTick at 0x7fa5cca5c3d0>,\n",
              "  <matplotlib.axis.XTick at 0x7fa5dcf36b10>,\n",
              "  <matplotlib.axis.XTick at 0x7fa5cca6f6d0>,\n",
              "  <matplotlib.axis.XTick at 0x7fa5cd533c50>,\n",
              "  <matplotlib.axis.XTick at 0x7fa5cd539210>],\n",
              " <a list of 5 Text major ticklabel objects>)"
            ]
          },
          "metadata": {},
          "execution_count": 38
        },
        {
          "output_type": "display_data",
          "data": {
            "text/plain": [
              "<Figure size 432x288 with 1 Axes>"
            ],
            "image/png": "[encoded data removed]"
          },
          "metadata": {
            "needs_background": "light"
          }
        }
      ],
      "source": [
        "k_range = range(1, 20)\n",
        "scores = []\n",
        "for k in k_range:\n",
        "    knn = KNeighborsClassifier(n_neighbors = k)\n",
        "    knn.fit(X_train, y_train)\n",
        "    scores.append(knn.score(X_test, y_test))\n",
        "plt.figure()\n",
        "plt.xlabel('k')\n",
        "plt.ylabel('accuracy')\n",
        "plt.scatter(k_range, scores)\n",
        "plt.xticks([0,5,10,15,20])"
      ]
    }
  ]
}